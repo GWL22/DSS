{
 "cells": [
  {
   "cell_type": "markdown",
   "metadata": {},
   "source": [
    "# Triple_check"
   ]
  },
  {
   "cell_type": "code",
   "execution_count": 1,
   "metadata": {
    "collapsed": true
   },
   "outputs": [],
   "source": [
    "from collections import defaultdict\n",
    "from operator import itemgetter\n",
    "import csv"
   ]
  },
  {
   "cell_type": "markdown",
   "metadata": {},
   "source": [
    "## Read train data and make dicts for check"
   ]
  },
  {
   "cell_type": "code",
   "execution_count": 2,
   "metadata": {
    "collapsed": false,
    "scrolled": true
   },
   "outputs": [
    {
     "name": "stdout",
     "output_type": "stream",
     "text": [
      "total lines: 37670294\n"
     ]
    }
   ],
   "source": [
    "f = open('dataset/train.csv', 'r')\n",
    "f.readline()\n",
    "\n",
    "total = 0\n",
    "\n",
    "first_check = defaultdict(lambda: defaultdict(int))\n",
    "second_check = defaultdict(lambda: defaultdict(int))\n",
    "last_check = defaultdict(lambda: defaultdict(int))\n",
    "\n",
    "flag = 0\n",
    "\n",
    "while 1:\n",
    "    line = f.readline().strip()\n",
    "    total += 1\n",
    "     \n",
    "    if line == '':\n",
    "        print 'total lines: {}'.format(total)\n",
    "        flag = 1\n",
    "        break\n",
    "    \n",
    "    content = line.split(',')\n",
    "\n",
    "    user_location_country = content[3]\n",
    "    srch_destination_id = content[16]\n",
    "    is_booking = int(content[18])\n",
    "    cnt = int(content[19])\n",
    "    hotel_country = content[21]\n",
    "    hotel_market = content[22]\n",
    "    hotel_cluster = content[23]\n",
    "    \n",
    "    score = is_booking * 10 + cnt\n",
    "    \n",
    "    f1 = (user_location_country, hotel_country)\n",
    "    s2 = (hotel_country, srch_destination_id)\n",
    "    l3 = (srch_destination_id, hotel_market)\n",
    "    \n",
    "    if hotel_cluster in first_check[f1].keys():\n",
    "        first_check[f1][hotel_cluster] += score\n",
    "    else :\n",
    "        first_check[f1][hotel_cluster] = score\n",
    "        \n",
    "    if hotel_cluster in second_check[s2].keys():\n",
    "        second_check[s2][hotel_cluster] += score\n",
    "    else :\n",
    "        second_check[s2][hotel_cluster] = score\n",
    "\n",
    "    if hotel_cluster in last_check[l3].keys():\n",
    "        last_check[l3][hotel_cluster] += score\n",
    "    else :\n",
    "        last_check[l3][hotel_cluster] = score\n",
    "    \n",
    "f.close()\n"
   ]
  },
  {
   "cell_type": "markdown",
   "metadata": {},
   "source": [
    "### if flag is changed to '1', start to make a submission"
   ]
  },
  {
   "cell_type": "code",
   "execution_count": 3,
   "metadata": {
    "collapsed": false,
    "scrolled": false
   },
   "outputs": [
    {
     "data": {
      "text/plain": [
       "1"
      ]
     },
     "execution_count": 3,
     "metadata": {},
     "output_type": "execute_result"
    }
   ],
   "source": [
    "flag"
   ]
  },
  {
   "cell_type": "code",
   "execution_count": null,
   "metadata": {
    "collapsed": false
   },
   "outputs": [
    {
     "name": "stdout",
     "output_type": "stream",
     "text": [
      "Wall time: 0 ns\n",
      "Reading...\n",
      "Wall time: 0 ns\n",
      "Reading...\n",
      "Wall time: 0 ns\n",
      "Reading...\n",
      "Wall time: 0 ns\n",
      "Reading...\n"
     ]
    }
   ],
   "source": [
    "if flag == 1:\n",
    "    f_t = open('dataset/test.csv', 'r')\n",
    "    f_t.readline()\n",
    "    total_t = 0\n",
    "    \n",
    "    while 1:\n",
    "        line = f_t.readline().strip()\n",
    "        total_t += 1\n",
    "        \n",
    "        if total_t % 100000 == 0:\n",
    "            %time\n",
    "            print 'Reading...'\n",
    "            \n",
    "        if line == '':\n",
    "            print 'test total lines: {}'.format(total_t)\n",
    "            %%time\n",
    "            print 'complete'\n",
    "            break\n",
    "\n",
    "        content = line.split(',')\n",
    "        \n",
    "        id_t = content[0]\n",
    "        user_location_country = content[4]\n",
    "        srch_destination_id = content[17]\n",
    "        hotel_country = content[20]\n",
    "        hotel_market = content[21]\n",
    "\n",
    "        f1 = (user_location_country, hotel_country)\n",
    "        s2 = (hotel_country, srch_destination_id)\n",
    "        l3 = (srch_destination_id, hotel_market)\n",
    "        \n",
    "        if f1 in first_check.keys():\n",
    "            first_report = sorted(first_check[f1].items(), key=itemgetter(1), reverse=True)[:5]\n",
    "        \n",
    "        if s2 in second_check.keys():\n",
    "            second_report = sorted(second_check[s2].items(), key=itemgetter(1), reverse=True)[:5]\n",
    "            \n",
    "        if l3 in last_check.keys():\n",
    "            last_report = sorted(last_check[l3].items(), key=itemgetter(1), reverse=True)[:5]\n",
    "            \n",
    "        report_set = [first_report, second_report, last_report]\n",
    "        \n",
    "        final_report_temp = defaultdict(int) \n",
    "        \n",
    "        for report in report_set:\n",
    "            for item in report:\n",
    "                if item[0] in final_report_temp.keys():\n",
    "                    final_report_temp[item[0]] += item[1]\n",
    "                else:\n",
    "                    final_report_temp[item[0]] = item[1]\n",
    "        \n",
    "        final_report_1 = sorted(final_report_temp.items(), key=itemgetter(1), reverse=True)[:5]\n",
    "        final_report = []\n",
    "        \n",
    "        for item in final_report_1:\n",
    "            final_report.append(item[0])\n",
    "        \n",
    "        with open('test_submission.csv', 'a') as f:\n",
    "            writer = csv.writer(f)\n",
    "            writer.writerow((id_t, final_report))\n",
    "\n",
    "        \n",
    "f.close()\n"
   ]
  },
  {
   "cell_type": "code",
   "execution_count": null,
   "metadata": {
    "collapsed": true
   },
   "outputs": [],
   "source": []
  },
  {
   "cell_type": "code",
   "execution_count": null,
   "metadata": {
    "collapsed": true
   },
   "outputs": [],
   "source": []
  },
  {
   "cell_type": "code",
   "execution_count": null,
   "metadata": {
    "collapsed": true
   },
   "outputs": [],
   "source": []
  },
  {
   "cell_type": "code",
   "execution_count": null,
   "metadata": {
    "collapsed": true
   },
   "outputs": [],
   "source": []
  },
  {
   "cell_type": "code",
   "execution_count": 8,
   "metadata": {
    "collapsed": true
   },
   "outputs": [],
   "source": [
    "import dask.dataframe as dd"
   ]
  },
  {
   "cell_type": "code",
   "execution_count": 9,
   "metadata": {
    "collapsed": false
   },
   "outputs": [],
   "source": [
    "test_report = dd.read_csv('dataset/train.csv')\n"
   ]
  },
  {
   "cell_type": "code",
   "execution_count": 10,
   "metadata": {
    "collapsed": false
   },
   "outputs": [
    {
     "data": {
      "text/html": [
       "<div>\n",
       "<table border=\"1\" class=\"dataframe\">\n",
       "  <thead>\n",
       "    <tr style=\"text-align: right;\">\n",
       "      <th></th>\n",
       "      <th>date_time</th>\n",
       "      <th>site_name</th>\n",
       "      <th>posa_continent</th>\n",
       "      <th>user_location_country</th>\n",
       "      <th>user_location_region</th>\n",
       "      <th>user_location_city</th>\n",
       "      <th>orig_destination_distance</th>\n",
       "      <th>user_id</th>\n",
       "      <th>is_mobile</th>\n",
       "      <th>is_package</th>\n",
       "      <th>...</th>\n",
       "      <th>srch_children_cnt</th>\n",
       "      <th>srch_rm_cnt</th>\n",
       "      <th>srch_destination_id</th>\n",
       "      <th>srch_destination_type_id</th>\n",
       "      <th>is_booking</th>\n",
       "      <th>cnt</th>\n",
       "      <th>hotel_continent</th>\n",
       "      <th>hotel_country</th>\n",
       "      <th>hotel_market</th>\n",
       "      <th>hotel_cluster</th>\n",
       "    </tr>\n",
       "  </thead>\n",
       "  <tbody>\n",
       "    <tr>\n",
       "      <th>0</th>\n",
       "      <td>2014-08-11 07:46:59</td>\n",
       "      <td>2</td>\n",
       "      <td>3</td>\n",
       "      <td>66</td>\n",
       "      <td>348</td>\n",
       "      <td>48862</td>\n",
       "      <td>2234.2641</td>\n",
       "      <td>12</td>\n",
       "      <td>0</td>\n",
       "      <td>1</td>\n",
       "      <td>...</td>\n",
       "      <td>0</td>\n",
       "      <td>1</td>\n",
       "      <td>8250</td>\n",
       "      <td>1</td>\n",
       "      <td>0</td>\n",
       "      <td>3</td>\n",
       "      <td>2</td>\n",
       "      <td>50</td>\n",
       "      <td>628</td>\n",
       "      <td>1</td>\n",
       "    </tr>\n",
       "    <tr>\n",
       "      <th>1</th>\n",
       "      <td>2014-08-11 08:22:12</td>\n",
       "      <td>2</td>\n",
       "      <td>3</td>\n",
       "      <td>66</td>\n",
       "      <td>348</td>\n",
       "      <td>48862</td>\n",
       "      <td>2234.2641</td>\n",
       "      <td>12</td>\n",
       "      <td>0</td>\n",
       "      <td>1</td>\n",
       "      <td>...</td>\n",
       "      <td>0</td>\n",
       "      <td>1</td>\n",
       "      <td>8250</td>\n",
       "      <td>1</td>\n",
       "      <td>1</td>\n",
       "      <td>1</td>\n",
       "      <td>2</td>\n",
       "      <td>50</td>\n",
       "      <td>628</td>\n",
       "      <td>1</td>\n",
       "    </tr>\n",
       "    <tr>\n",
       "      <th>2</th>\n",
       "      <td>2014-08-11 08:24:33</td>\n",
       "      <td>2</td>\n",
       "      <td>3</td>\n",
       "      <td>66</td>\n",
       "      <td>348</td>\n",
       "      <td>48862</td>\n",
       "      <td>2234.2641</td>\n",
       "      <td>12</td>\n",
       "      <td>0</td>\n",
       "      <td>0</td>\n",
       "      <td>...</td>\n",
       "      <td>0</td>\n",
       "      <td>1</td>\n",
       "      <td>8250</td>\n",
       "      <td>1</td>\n",
       "      <td>0</td>\n",
       "      <td>1</td>\n",
       "      <td>2</td>\n",
       "      <td>50</td>\n",
       "      <td>628</td>\n",
       "      <td>1</td>\n",
       "    </tr>\n",
       "    <tr>\n",
       "      <th>3</th>\n",
       "      <td>2014-08-09 18:05:16</td>\n",
       "      <td>2</td>\n",
       "      <td>3</td>\n",
       "      <td>66</td>\n",
       "      <td>442</td>\n",
       "      <td>35390</td>\n",
       "      <td>913.1932</td>\n",
       "      <td>93</td>\n",
       "      <td>0</td>\n",
       "      <td>0</td>\n",
       "      <td>...</td>\n",
       "      <td>0</td>\n",
       "      <td>1</td>\n",
       "      <td>14984</td>\n",
       "      <td>1</td>\n",
       "      <td>0</td>\n",
       "      <td>1</td>\n",
       "      <td>2</td>\n",
       "      <td>50</td>\n",
       "      <td>1457</td>\n",
       "      <td>80</td>\n",
       "    </tr>\n",
       "    <tr>\n",
       "      <th>4</th>\n",
       "      <td>2014-08-09 18:08:18</td>\n",
       "      <td>2</td>\n",
       "      <td>3</td>\n",
       "      <td>66</td>\n",
       "      <td>442</td>\n",
       "      <td>35390</td>\n",
       "      <td>913.6259</td>\n",
       "      <td>93</td>\n",
       "      <td>0</td>\n",
       "      <td>0</td>\n",
       "      <td>...</td>\n",
       "      <td>0</td>\n",
       "      <td>1</td>\n",
       "      <td>14984</td>\n",
       "      <td>1</td>\n",
       "      <td>0</td>\n",
       "      <td>1</td>\n",
       "      <td>2</td>\n",
       "      <td>50</td>\n",
       "      <td>1457</td>\n",
       "      <td>21</td>\n",
       "    </tr>\n",
       "  </tbody>\n",
       "</table>\n",
       "<p>5 rows × 24 columns</p>\n",
       "</div>"
      ],
      "text/plain": [
       "             date_time  site_name  posa_continent  user_location_country  \\\n",
       "0  2014-08-11 07:46:59          2               3                     66   \n",
       "1  2014-08-11 08:22:12          2               3                     66   \n",
       "2  2014-08-11 08:24:33          2               3                     66   \n",
       "3  2014-08-09 18:05:16          2               3                     66   \n",
       "4  2014-08-09 18:08:18          2               3                     66   \n",
       "\n",
       "   user_location_region  user_location_city  orig_destination_distance  \\\n",
       "0                   348               48862                  2234.2641   \n",
       "1                   348               48862                  2234.2641   \n",
       "2                   348               48862                  2234.2641   \n",
       "3                   442               35390                   913.1932   \n",
       "4                   442               35390                   913.6259   \n",
       "\n",
       "   user_id  is_mobile  is_package      ...        srch_children_cnt  \\\n",
       "0       12          0           1      ...                        0   \n",
       "1       12          0           1      ...                        0   \n",
       "2       12          0           0      ...                        0   \n",
       "3       93          0           0      ...                        0   \n",
       "4       93          0           0      ...                        0   \n",
       "\n",
       "  srch_rm_cnt srch_destination_id  srch_destination_type_id  is_booking  cnt  \\\n",
       "0           1                8250                         1           0    3   \n",
       "1           1                8250                         1           1    1   \n",
       "2           1                8250                         1           0    1   \n",
       "3           1               14984                         1           0    1   \n",
       "4           1               14984                         1           0    1   \n",
       "\n",
       "   hotel_continent  hotel_country  hotel_market  hotel_cluster  \n",
       "0                2             50           628              1  \n",
       "1                2             50           628              1  \n",
       "2                2             50           628              1  \n",
       "3                2             50          1457             80  \n",
       "4                2             50          1457             21  \n",
       "\n",
       "[5 rows x 24 columns]"
      ]
     },
     "execution_count": 10,
     "metadata": {},
     "output_type": "execute_result"
    }
   ],
   "source": [
    "test_report.get_partition(0).head()"
   ]
  },
  {
   "cell_type": "code",
   "execution_count": null,
   "metadata": {
    "collapsed": false
   },
   "outputs": [],
   "source": [
    "length = 0\n",
    "for num in range(test_report.npartitions):\n",
    "    test_sample = test_report.get_partition(num)\n",
    "    length += len(test_sample)\n",
    "    print length"
   ]
  },
  {
   "cell_type": "markdown",
   "metadata": {},
   "source": [
    "result length(accumulate)\n",
    "309560\n",
    "618036\n",
    "926315\n",
    "1232672\n",
    "1538200\n",
    "1843710\n",
    "2148756\n",
    "2454614\n",
    "**final: 2528243**"
   ]
  },
  {
   "cell_type": "markdown",
   "metadata": {},
   "source": [
    "submission의 len이 총 2,528,243 나와야 함. "
   ]
  },
  {
   "cell_type": "code",
   "execution_count": 2,
   "metadata": {
    "collapsed": true
   },
   "outputs": [],
   "source": [
    "import dask.dataframe as dd\n",
    "\n",
    "test = dd.read_csv('test_submission.csv')"
   ]
  },
  {
   "cell_type": "code",
   "execution_count": 5,
   "metadata": {
    "collapsed": false
   },
   "outputs": [
    {
     "data": {
      "text/plain": [
       "1143483"
      ]
     },
     "execution_count": 5,
     "metadata": {},
     "output_type": "execute_result"
    }
   ],
   "source": [
    "len(test)"
   ]
  }
 ],
 "metadata": {
  "kernelspec": {
   "display_name": "Python 2",
   "language": "python",
   "name": "python2"
  },
  "language_info": {
   "codemirror_mode": {
    "name": "ipython",
    "version": 2
   },
   "file_extension": ".py",
   "mimetype": "text/x-python",
   "name": "python",
   "nbconvert_exporter": "python",
   "pygments_lexer": "ipython2",
   "version": "2.7.12"
  }
 },
 "nbformat": 4,
 "nbformat_minor": 1
}
