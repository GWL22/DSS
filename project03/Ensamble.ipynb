{
 "cells": [
  {
   "cell_type": "code",
   "execution_count": 1,
   "metadata": {
    "collapsed": true
   },
   "outputs": [],
   "source": [
    "import pandas as pd\n",
    "import dask.dataframe as dd\n",
    "import numpy as np\n",
    "import math"
   ]
  },
  {
   "cell_type": "code",
   "execution_count": 2,
   "metadata": {
    "collapsed": true
   },
   "outputs": [],
   "source": [
    "whole_train = dd.read_csv('dataset/train.csv', parse_dates=['srch_ci', 'srch_co'])\n",
    "train = whole_train.get_partition(0).head(10000)"
   ]
  },
  {
   "cell_type": "code",
   "execution_count": 3,
   "metadata": {
    "collapsed": false
   },
   "outputs": [
    {
     "name": "stderr",
     "output_type": "stream",
     "text": [
      "c:\\python27\\lib\\site-packages\\pandas\\core\\indexing.py:140: SettingWithCopyWarning: \n",
      "A value is trying to be set on a copy of a slice from a DataFrame\n",
      "\n",
      "See the caveats in the documentation: http://pandas.pydata.org/pandas-docs/stable/indexing.html#indexing-view-versus-copy\n",
      "  self._setitem_with_indexer(indexer, value)\n"
     ]
    }
   ],
   "source": [
    "train['nights'] = train['srch_co'] - train['srch_ci']\n",
    "train['nights'] = train['nights'] / np.timedelta64(1, 'D')\n",
    "\n",
    "for num in range(len(train['nights'])):\n",
    "    if math.isnan(train['nights'].ix[num]) or train['nights'].ix[num]<0:\n",
    "        num1 = num - 1\n",
    "        num2 = num + 1\n",
    "        if train.ix[num]['user_id'] == train.ix[num]['user_id'] and math.isnan(train['nights'].ix[num1]) == False:\n",
    "            train['nights'].ix[num] = train.ix[num1]['nights']\n",
    "        elif train.ix[num]['user_id'] == train.ix[num]['user_id'] and math.isnan(train['nights'].ix[num2]) == False:\n",
    "            train['nights'].ix[num] = train.ix[num2]['nights']\n",
    "        else:\n",
    "            break"
   ]
  },
  {
   "cell_type": "code",
   "execution_count": 4,
   "metadata": {
    "collapsed": true
   },
   "outputs": [],
   "source": [
    "del train['srch_ci']\n",
    "del train['srch_co']\n",
    "del train['date_time']"
   ]
  },
  {
   "cell_type": "code",
   "execution_count": 5,
   "metadata": {
    "collapsed": true
   },
   "outputs": [],
   "source": [
    "del train['site_name']\n",
    "del train['user_id']\n",
    "del train['orig_destination_distance']\n",
    "# del train['user_location_city']\n",
    "# del train['user_location_region']\n",
    "# del train['user_location_country']\n",
    "# del train['posa_continent']\n",
    "\n",
    "# del train['is_package']\n",
    "# del train['is_mobile']\n",
    "# del train['channel']\n",
    "\n",
    "# del train['srch_adults_cnt']\n",
    "# del train['srch_children_cnt']\n",
    "# del train['srch_rm_cnt']\n",
    "\n",
    "# del train['srch_destination_id']\n",
    "# del train['srch_destination_type_id']\n",
    "# del train['is_booking']\n",
    "# del train['cnt']\n",
    "\n",
    "# del train['hotel_continent']\n",
    "# del train['hotel_country']\n",
    "# del train['hotel_market']\n",
    "# del train['nights']"
   ]
  },
  {
   "cell_type": "code",
   "execution_count": 6,
   "metadata": {
    "collapsed": false
   },
   "outputs": [],
   "source": [
    "x = train.drop('hotel_cluster', axis=1)\n",
    "y = train['hotel_cluster']"
   ]
  },
  {
   "cell_type": "code",
   "execution_count": 17,
   "metadata": {
    "collapsed": false
   },
   "outputs": [
    {
     "name": "stdout",
     "output_type": "stream",
     "text": [
      "Index([u'posa_continent', u'user_location_country', u'user_location_region',\n",
      "       u'user_location_city', u'is_mobile', u'is_package', u'channel',\n",
      "       u'srch_adults_cnt', u'srch_children_cnt', u'srch_rm_cnt',\n",
      "       u'srch_destination_id', u'srch_destination_type_id', u'is_booking',\n",
      "       u'cnt', u'hotel_continent', u'hotel_country', u'hotel_market',\n",
      "       u'nights'],\n",
      "      dtype='object')\n",
      "18\n"
     ]
    }
   ],
   "source": [
    "print x.columns\n",
    "print len(x.columns)"
   ]
  },
  {
   "cell_type": "code",
   "execution_count": 23,
   "metadata": {
    "collapsed": false
   },
   "outputs": [
    {
     "data": {
      "text/plain": [
       "('srch_rm_cnt', 'is_mobile', 'posa_continent', 'is_package')"
      ]
     },
     "execution_count": 23,
     "metadata": {},
     "output_type": "execute_result"
    }
   ],
   "source": [
    "x.columns[9], x.columns[4], x.columns[0], x.columns[5]"
   ]
  },
  {
   "cell_type": "code",
   "execution_count": 16,
   "metadata": {
    "collapsed": false
   },
   "outputs": [
    {
     "name": "stdout",
     "output_type": "stream",
     "text": [
      "feature ranking:\n",
      "1. feature 13 (0.152734275854)\n",
      "2. feature 16 (0.11365034211)\n",
      "3. feature 10 (0.110828570645)\n",
      "4. feature 3 (0.0942675926922)\n",
      "5. feature 17 (0.0931406983621)\n",
      "6. feature 2 (0.0741986000355)\n",
      "7. feature 6 (0.063355967503)\n",
      "8. feature 7 (0.047362370705)\n",
      "9. feature 15 (0.0439833966729)\n",
      "10. feature 11 (0.0392254306781)\n",
      "11. feature 8 (0.0311360807798)\n",
      "12. feature 1 (0.0287064750128)\n",
      "13. feature 12 (0.0274025682738)\n",
      "14. feature 14 (0.0272793063565)\n",
      "15. feature 9 (0.0143315606569)\n",
      "16. feature 4 (0.0134264366504)\n",
      "17. feature 0 (0.0130316836859)\n",
      "18. feature 5 (0.0119386433262)\n"
     ]
    },
    {
     "data": {
      "image/png": "[encoded data removed]",
      "text/plain": [
       "<matplotlib.figure.Figure at 0x13f87570>"
      ]
     },
     "metadata": {},
     "output_type": "display_data"
    }
   ],
   "source": [
    "from sklearn import clone\n",
    "from sklearn.ensemble import RandomForestClassifier, ExtraTreesClassifier\n",
    "from sklearn.tree import DecisionTreeClassifier\n",
    "import matplotlib.pyplot as plt\n",
    "\n",
    "forest = ExtraTreesClassifier(n_estimators=18, random_state=0)\n",
    "forest.fit(x, y)\n",
    "\n",
    "importances = forest.feature_importances_\n",
    "\n",
    "std = np.std([tree.feature_importances_ for tree in forest.estimators_], axis = 0)\n",
    "indices = np.argsort(importances)[::-1]\n",
    "\n",
    "print 'feature ranking:'\n",
    "for f in range(x.shape[1]):\n",
    "    print '{}. feature {} ({})'.format(f+1, indices[f], importances[indices[f]])\n",
    "\n",
    "\n",
    "plt.title('Feature importances')\n",
    "plt.bar(range(x.shape[1]), importances[indices], color='r', yerr=std[indices], align='center')\n",
    "plt.xticks(range(x.shape[1]), indices)\n",
    "plt.xlim([-1, x.shape[1]])\n",
    "plt.show()"
   ]
  },
  {
   "cell_type": "code",
   "execution_count": 27,
   "metadata": {
    "collapsed": false
   },
   "outputs": [
    {
     "data": {
      "text/plain": [
       "'srch_children_cnt'"
      ]
     },
     "execution_count": 27,
     "metadata": {},
     "output_type": "execute_result"
    }
   ],
   "source": [
    "x.columns[8]"
   ]
  },
  {
   "cell_type": "code",
   "execution_count": null,
   "metadata": {
    "collapsed": true
   },
   "outputs": [],
   "source": []
  },
  {
   "cell_type": "code",
   "execution_count": 29,
   "metadata": {
    "collapsed": false
   },
   "outputs": [],
   "source": [
    "from sklearn.tree import DecisionTreeClassifier\n",
    "from sklearn.linear_model import LogisticRegression\n",
    "from sklearn.svm import SVC\n",
    "from sklearn.ensemble import BaggingClassifier\n",
    "\n",
    "model1 = DecisionTreeClassifier().fit(x,y)\n",
    "model2 = BaggingClassifier(DecisionTreeClassifier(), bootstrap_features=True, random_state=0).fit(x,y)\n",
    "\n",
    "result1 = model1.predict(x)\n",
    "result2 = model2.predict(x)"
   ]
  },
  {
   "cell_type": "code",
   "execution_count": 30,
   "metadata": {
    "collapsed": true
   },
   "outputs": [],
   "source": [
    "from sklearn.metrics import classification_report, accuracy_score"
   ]
  },
  {
   "cell_type": "code",
   "execution_count": 35,
   "metadata": {
    "collapsed": true
   },
   "outputs": [
    {
     "name": "stdout",
     "output_type": "stream",
     "text": [
      "             precision    recall  f1-score   support\n",
      "\n",
      "          0       0.49      0.91      0.64        98\n",
      "          1       0.66      0.95      0.78       112\n",
      "          2       0.52      0.92      0.67        78\n",
      "          3       0.56      0.94      0.71        51\n",
      "          4       0.62      0.79      0.70        77\n",
      "          5       0.52      0.77      0.62       120\n",
      "          6       0.67      0.78      0.72       118\n",
      "          7       0.58      0.91      0.71        86\n",
      "          8       0.52      0.79      0.63       137\n",
      "          9       0.51      0.81      0.63        94\n",
      "         10       0.51      0.84      0.64       103\n",
      "         11       0.59      0.76      0.67        68\n",
      "         12       0.68      0.88      0.77       138\n",
      "         13       0.61      0.82      0.70        90\n",
      "         14       0.61      0.71      0.66        84\n",
      "         15       0.69      0.78      0.73        87\n",
      "         16       0.69      0.76      0.72       144\n",
      "         17       0.56      0.68      0.61        74\n",
      "         18       0.63      0.69      0.66       160\n",
      "         19       0.74      0.70      0.72        66\n",
      "         20       0.54      0.74      0.62        92\n",
      "         21       0.71      0.74      0.73       156\n",
      "         22       0.54      0.74      0.62        88\n",
      "         23       0.76      0.82      0.79        77\n",
      "         24       0.66      0.80      0.72        44\n",
      "         25       0.75      0.82      0.79       188\n",
      "         26       0.69      0.83      0.75        83\n",
      "         27       0.89      1.00      0.94        16\n",
      "         28       0.76      0.78      0.77       134\n",
      "         29       0.60      0.72      0.66        89\n",
      "         30       0.61      0.58      0.60       129\n",
      "         31       0.62      0.72      0.67        74\n",
      "         32       0.68      0.74      0.71        85\n",
      "         33       0.73      0.82      0.77       181\n",
      "         34       0.67      0.66      0.67        92\n",
      "         35       0.59      0.63      0.61        68\n",
      "         36       0.60      0.83      0.70       135\n",
      "         37       0.68      0.57      0.62       112\n",
      "         38       0.52      0.69      0.59        72\n",
      "         39       0.61      0.73      0.66        99\n",
      "         40       0.69      0.75      0.72       142\n",
      "         41       0.51      0.72      0.60       237\n",
      "         42       0.75      0.66      0.71       125\n",
      "         43       0.82      0.59      0.69        69\n",
      "         44       0.73      0.73      0.73        55\n",
      "         45       0.63      0.76      0.69        63\n",
      "         46       0.83      0.71      0.76        96\n",
      "         47       0.74      0.60      0.67       106\n",
      "         48       0.79      0.74      0.76       204\n",
      "         49       0.76      0.68      0.72        41\n",
      "         50       0.85      0.60      0.70       128\n",
      "         51       0.83      0.59      0.69        98\n",
      "         52       0.66      0.74      0.70       132\n",
      "         53       0.90      0.72      0.80        53\n",
      "         54       0.70      0.79      0.74        82\n",
      "         55       0.64      0.55      0.59        75\n",
      "         56       0.68      0.75      0.71       104\n",
      "         57       0.71      0.64      0.67       133\n",
      "         58       0.78      0.70      0.74       105\n",
      "         59       0.82      0.54      0.65        90\n",
      "         60       0.88      0.64      0.74        88\n",
      "         61       0.81      0.55      0.65       110\n",
      "         62       0.71      0.59      0.64        94\n",
      "         63       0.78      0.75      0.76        83\n",
      "         64       0.78      0.76      0.77       127\n",
      "         65       0.69      0.86      0.76       227\n",
      "         66       1.00      0.57      0.73        58\n",
      "         67       0.82      0.70      0.75        57\n",
      "         68       0.85      0.70      0.76       112\n",
      "         69       0.85      0.59      0.69        75\n",
      "         70       0.79      0.66      0.72       154\n",
      "         71       0.65      0.67      0.66        51\n",
      "         72       0.86      0.53      0.66       118\n",
      "         73       0.83      0.61      0.70       115\n",
      "         74       1.00      0.89      0.94         9\n",
      "         75       0.81      0.53      0.64        32\n",
      "         76       0.83      0.56      0.67       126\n",
      "         77       0.94      0.58      0.72       112\n",
      "         78       0.67      0.48      0.56       100\n",
      "         79       0.84      0.42      0.56        62\n",
      "         80       0.81      0.78      0.79        49\n",
      "         81       0.96      0.56      0.71        96\n",
      "         82       0.89      0.69      0.78       101\n",
      "         83       0.87      0.56      0.68       142\n",
      "         84       0.93      0.47      0.63        91\n",
      "         85       0.68      0.47      0.55        92\n",
      "         86       0.83      0.72      0.77        60\n",
      "         87       0.80      0.54      0.64        67\n",
      "         88       1.00      0.62      0.77        29\n",
      "         89       0.80      0.59      0.68        74\n",
      "         90       1.00      0.53      0.69        83\n",
      "         91       0.78      0.66      0.72       257\n",
      "         92       0.88      0.79      0.84        58\n",
      "         93       1.00      0.32      0.49        37\n",
      "         94       0.66      0.52      0.58        63\n",
      "         95       0.90      0.66      0.76       163\n",
      "         96       0.97      0.58      0.73       128\n",
      "         97       0.79      0.69      0.74       133\n",
      "         98       0.86      0.58      0.69       105\n",
      "         99       0.84      0.55      0.67       125\n",
      "\n",
      "avg / total       0.73      0.70      0.70     10000\n",
      "\n"
     ]
    }
   ],
   "source": [
    "print classification_report(y, result1)"
   ]
  },
  {
   "cell_type": "code",
   "execution_count": 36,
   "metadata": {
    "collapsed": false
   },
   "outputs": [
    {
     "name": "stdout",
     "output_type": "stream",
     "text": [
      "0.6957\n"
     ]
    }
   ],
   "source": [
    "print accuracy_score(y, result1)"
   ]
  },
  {
   "cell_type": "code",
   "execution_count": 33,
   "metadata": {
    "collapsed": false
   },
   "outputs": [],
   "source": [
    "from itertools import product\n",
    "from sklearn.tree import DecisionTreeClassifier\n",
    "from sklearn.linear_model import LogisticRegression\n",
    "from sklearn.svm import SVC\n",
    "from sklearn.ensemble import VotingClassifier, BaggingClassifier\n",
    "\n",
    "model_1 = DecisionTreeClassifier().fit(x,y)\n",
    "model_2 = BaggingClassifier().fit(x,y)\n",
    "model_3 = SVC(probability=True).fit(x,y)\n",
    "model_4 = VotingClassifier(estimators=[('dt', model_1), ('Bg', model_2), ('svc', model_3)],\n",
    "                           voting='soft', weights=[3,1,0]).fit(x,y)\n",
    "\n"
   ]
  },
  {
   "cell_type": "code",
   "execution_count": 8,
   "metadata": {
    "collapsed": true
   },
   "outputs": [],
   "source": [
    "from sklearn.metrics import classification_report, accuracy_score"
   ]
  },
  {
   "cell_type": "code",
   "execution_count": 34,
   "metadata": {
    "collapsed": true
   },
   "outputs": [
    {
     "name": "stdout",
     "output_type": "stream",
     "text": [
      "             precision    recall  f1-score   support\n",
      "\n",
      "          0       0.53      0.63      0.58        98\n",
      "          1       0.57      0.89      0.69       112\n",
      "          2       0.58      0.55      0.57        78\n",
      "          3       0.95      0.37      0.54        51\n",
      "          4       0.73      0.43      0.54        77\n",
      "          5       0.49      0.52      0.50       120\n",
      "          6       0.58      0.54      0.56       118\n",
      "          7       0.73      0.60      0.66        86\n",
      "          8       0.40      0.66      0.50       137\n",
      "          9       0.54      0.55      0.55        94\n",
      "         10       0.58      0.50      0.54       103\n",
      "         11       0.73      0.40      0.51        68\n",
      "         12       0.64      0.67      0.65       138\n",
      "         13       0.65      0.62      0.64        90\n",
      "         14       0.82      0.38      0.52        84\n",
      "         15       0.61      0.43      0.50        87\n",
      "         16       0.54      0.61      0.57       144\n",
      "         17       0.65      0.30      0.41        74\n",
      "         18       0.56      0.54      0.55       160\n",
      "         19       0.78      0.48      0.60        66\n",
      "         20       0.62      0.43      0.51        92\n",
      "         21       0.55      0.61      0.58       156\n",
      "         22       0.57      0.52      0.54        88\n",
      "         23       0.85      0.53      0.66        77\n",
      "         24       0.64      0.61      0.63        44\n",
      "         25       0.59      0.79      0.67       188\n",
      "         26       0.81      0.55      0.66        83\n",
      "         27       0.88      0.94      0.91        16\n",
      "         28       0.70      0.66      0.68       134\n",
      "         29       0.51      0.46      0.49        89\n",
      "         30       0.48      0.51      0.49       129\n",
      "         31       0.65      0.46      0.54        74\n",
      "         32       0.63      0.54      0.58        85\n",
      "         33       0.62      0.78      0.69       181\n",
      "         34       0.54      0.55      0.55        92\n",
      "         35       0.54      0.41      0.47        68\n",
      "         36       0.48      0.74      0.58       135\n",
      "         37       0.56      0.39      0.46       112\n",
      "         38       0.60      0.44      0.51        72\n",
      "         39       0.52      0.63      0.57        99\n",
      "         40       0.54      0.65      0.59       142\n",
      "         41       0.31      0.63      0.42       237\n",
      "         42       0.59      0.61      0.60       125\n",
      "         43       0.70      0.46      0.56        69\n",
      "         44       0.93      0.47      0.63        55\n",
      "         45       0.63      0.70      0.66        63\n",
      "         46       0.58      0.67      0.62        96\n",
      "         47       0.63      0.45      0.53       106\n",
      "         48       0.63      0.71      0.67       204\n",
      "         49       0.81      0.41      0.55        41\n",
      "         50       0.53      0.66      0.59       128\n",
      "         51       0.71      0.43      0.54        98\n",
      "         52       0.66      0.48      0.55       132\n",
      "         53       0.84      0.60      0.70        53\n",
      "         54       0.62      0.78      0.69        82\n",
      "         55       0.46      0.31      0.37        75\n",
      "         56       0.54      0.62      0.58       104\n",
      "         57       0.61      0.56      0.58       133\n",
      "         58       0.61      0.63      0.62       105\n",
      "         59       0.69      0.37      0.48        90\n",
      "         60       0.75      0.53      0.62        88\n",
      "         61       0.50      0.51      0.51       110\n",
      "         62       0.54      0.50      0.52        94\n",
      "         63       0.57      0.63      0.60        83\n",
      "         64       0.66      0.65      0.65       127\n",
      "         65       0.52      0.93      0.67       227\n",
      "         66       0.92      0.40      0.55        58\n",
      "         67       0.69      0.51      0.59        57\n",
      "         68       0.61      0.56      0.58       112\n",
      "         69       0.67      0.43      0.52        75\n",
      "         70       0.62      0.68      0.65       154\n",
      "         71       0.39      0.45      0.42        51\n",
      "         72       0.56      0.42      0.48       118\n",
      "         73       0.56      0.60      0.58       115\n",
      "         74       1.00      0.89      0.94         9\n",
      "         75       0.88      0.44      0.58        32\n",
      "         76       0.52      0.53      0.53       126\n",
      "         77       0.75      0.52      0.61       112\n",
      "         78       0.43      0.43      0.43       100\n",
      "         79       0.49      0.34      0.40        62\n",
      "         80       0.69      0.73      0.71        49\n",
      "         81       0.63      0.47      0.54        96\n",
      "         82       0.72      0.62      0.67       101\n",
      "         83       0.55      0.59      0.57       142\n",
      "         84       0.62      0.38      0.48        91\n",
      "         85       0.53      0.51      0.52        92\n",
      "         86       0.82      0.45      0.58        60\n",
      "         87       0.73      0.36      0.48        67\n",
      "         88       0.86      0.41      0.56        29\n",
      "         89       0.52      0.46      0.49        74\n",
      "         90       0.74      0.42      0.54        83\n",
      "         91       0.53      0.75      0.62       257\n",
      "         92       0.82      0.69      0.75        58\n",
      "         93       1.00      0.22      0.36        37\n",
      "         94       0.57      0.38      0.46        63\n",
      "         95       0.65      0.67      0.66       163\n",
      "         96       0.57      0.57      0.57       128\n",
      "         97       0.59      0.74      0.66       133\n",
      "         98       0.55      0.57      0.56       105\n",
      "         99       0.50      0.59      0.54       125\n",
      "\n",
      "avg / total       0.60      0.58      0.57     10000\n",
      "\n"
     ]
    }
   ],
   "source": [
    "print classification_report(y, model_3.predict(x))"
   ]
  },
  {
   "cell_type": "code",
   "execution_count": 35,
   "metadata": {
    "collapsed": false
   },
   "outputs": [
    {
     "name": "stdout",
     "output_type": "stream",
     "text": [
      "0.5753\n"
     ]
    }
   ],
   "source": [
    "print accuracy_score(y, model_3.predict(x))"
   ]
  },
  {
   "cell_type": "markdown",
   "metadata": {},
   "source": [
    "* VotingClassifier(DecisionTreeClassifier, BaggingClassifier, SVC, weight: 2,1,1) \n",
    "    * acc : 0.6955 precision : 0.71 recall : 0.70\n",
    "* DecisionClassifier \n",
    "    * acc: 0.6957 precision: 0.73 recall: 0.70"
   ]
  },
  {
   "cell_type": "code",
   "execution_count": null,
   "metadata": {
    "collapsed": true
   },
   "outputs": [],
   "source": []
  },
  {
   "cell_type": "code",
   "execution_count": 38,
   "metadata": {
    "collapsed": false
   },
   "outputs": [],
   "source": [
    "from sklearn.ensemble import AdaBoostClassifier\n",
    "from sklearn.tree import DecisionTreeClassifier\n",
    "\n",
    "bdt = AdaBoostClassifier(DecisionTreeClassifier(),\n",
    "                         algorithm='SAMME',\n",
    "                         n_estimators=18)\n",
    "\n",
    "model_5 = bdt.fit(x,y)"
   ]
  },
  {
   "cell_type": "code",
   "execution_count": 39,
   "metadata": {
    "collapsed": true
   },
   "outputs": [
    {
     "name": "stdout",
     "output_type": "stream",
     "text": [
      "             precision    recall  f1-score   support\n",
      "\n",
      "          0       0.64      0.76      0.69        98\n",
      "          1       0.69      0.88      0.78       112\n",
      "          2       0.66      0.81      0.73        78\n",
      "          3       0.65      0.86      0.74        51\n",
      "          4       0.72      0.70      0.71        77\n",
      "          5       0.61      0.64      0.62       120\n",
      "          6       0.73      0.74      0.73       118\n",
      "          7       0.66      0.83      0.73        86\n",
      "          8       0.57      0.69      0.63       137\n",
      "          9       0.58      0.72      0.64        94\n",
      "         10       0.64      0.70      0.67       103\n",
      "         11       0.67      0.69      0.68        68\n",
      "         12       0.65      0.88      0.75       138\n",
      "         13       0.61      0.79      0.69        90\n",
      "         14       0.68      0.67      0.67        84\n",
      "         15       0.69      0.78      0.73        87\n",
      "         16       0.71      0.75      0.73       144\n",
      "         17       0.53      0.68      0.60        74\n",
      "         18       0.69      0.65      0.67       160\n",
      "         19       0.76      0.68      0.72        66\n",
      "         20       0.64      0.66      0.65        92\n",
      "         21       0.64      0.76      0.70       156\n",
      "         22       0.75      0.59      0.66        88\n",
      "         23       0.78      0.81      0.79        77\n",
      "         24       0.62      0.84      0.71        44\n",
      "         25       0.74      0.83      0.78       188\n",
      "         26       0.80      0.80      0.80        83\n",
      "         27       0.89      1.00      0.94        16\n",
      "         28       0.75      0.78      0.76       134\n",
      "         29       0.61      0.69      0.65        89\n",
      "         30       0.55      0.60      0.57       129\n",
      "         31       0.61      0.69      0.65        74\n",
      "         32       0.74      0.73      0.73        85\n",
      "         33       0.79      0.80      0.79       181\n",
      "         34       0.72      0.62      0.67        92\n",
      "         35       0.67      0.53      0.59        68\n",
      "         36       0.63      0.80      0.71       135\n",
      "         37       0.57      0.62      0.60       112\n",
      "         38       0.61      0.60      0.61        72\n",
      "         39       0.62      0.69      0.65        99\n",
      "         40       0.69      0.72      0.70       142\n",
      "         41       0.49      0.67      0.57       237\n",
      "         42       0.72      0.67      0.70       125\n",
      "         43       0.45      0.71      0.55        69\n",
      "         44       0.79      0.69      0.74        55\n",
      "         45       0.65      0.71      0.68        63\n",
      "         46       0.77      0.73      0.75        96\n",
      "         47       0.72      0.59      0.65       106\n",
      "         48       0.71      0.74      0.72       204\n",
      "         49       0.81      0.63      0.71        41\n",
      "         50       0.73      0.66      0.69       128\n",
      "         51       0.73      0.62      0.67        98\n",
      "         52       0.71      0.69      0.70       132\n",
      "         53       0.79      0.77      0.78        53\n",
      "         54       0.79      0.71      0.75        82\n",
      "         55       0.56      0.59      0.57        75\n",
      "         56       0.61      0.78      0.68       104\n",
      "         57       0.68      0.63      0.65       133\n",
      "         58       0.69      0.72      0.71       105\n",
      "         59       0.73      0.57      0.64        90\n",
      "         60       0.64      0.75      0.69        88\n",
      "         61       0.68      0.59      0.63       110\n",
      "         62       0.59      0.60      0.59        94\n",
      "         63       0.82      0.70      0.75        83\n",
      "         64       0.77      0.75      0.76       127\n",
      "         65       0.67      0.89      0.76       227\n",
      "         66       0.85      0.60      0.71        58\n",
      "         67       0.82      0.70      0.75        57\n",
      "         68       0.75      0.71      0.73       112\n",
      "         69       0.79      0.60      0.68        75\n",
      "         70       0.66      0.64      0.65       154\n",
      "         71       0.62      0.69      0.65        51\n",
      "         72       0.52      0.62      0.57       118\n",
      "         73       0.78      0.63      0.70       115\n",
      "         74       1.00      0.89      0.94         9\n",
      "         75       0.72      0.56      0.63        32\n",
      "         76       0.78      0.58      0.66       126\n",
      "         77       0.78      0.62      0.69       112\n",
      "         78       0.59      0.51      0.55       100\n",
      "         79       0.60      0.45      0.51        62\n",
      "         80       0.75      0.80      0.77        49\n",
      "         81       0.62      0.64      0.63        96\n",
      "         82       0.80      0.69      0.74       101\n",
      "         83       0.66      0.58      0.62       142\n",
      "         84       0.82      0.49      0.62        91\n",
      "         85       0.75      0.42      0.54        92\n",
      "         86       0.83      0.72      0.77        60\n",
      "         87       0.85      0.49      0.62        67\n",
      "         88       0.83      0.69      0.75        29\n",
      "         89       0.77      0.58      0.66        74\n",
      "         90       0.66      0.59      0.62        83\n",
      "         91       0.73      0.67      0.70       257\n",
      "         92       0.80      0.83      0.81        58\n",
      "         93       1.00      0.32      0.49        37\n",
      "         94       0.63      0.49      0.55        63\n",
      "         95       0.89      0.66      0.76       163\n",
      "         96       0.77      0.60      0.68       128\n",
      "         97       0.77      0.69      0.73       133\n",
      "         98       0.92      0.54      0.68       105\n",
      "         99       0.71      0.58      0.64       125\n",
      "\n",
      "avg / total       0.70      0.68      0.68     10000\n",
      "\n"
     ]
    }
   ],
   "source": [
    "print classification_report(y, model_5.predict(x))"
   ]
  },
  {
   "cell_type": "code",
   "execution_count": 43,
   "metadata": {
    "collapsed": false
   },
   "outputs": [
    {
     "name": "stdout",
     "output_type": "stream",
     "text": [
      "0.0207\n"
     ]
    }
   ],
   "source": [
    "print accuracy_score(model_6.predict(x), y)"
   ]
  },
  {
   "cell_type": "code",
   "execution_count": null,
   "metadata": {
    "collapsed": true
   },
   "outputs": [],
   "source": []
  },
  {
   "cell_type": "code",
   "execution_count": 41,
   "metadata": {
    "collapsed": true
   },
   "outputs": [],
   "source": [
    "from sklearn.ensemble import GradientBoostingClassifier\n",
    "model_6 = GradientBoostingClassifier(n_estimators=18, learning_rate=1.0, random_state=0).fit(x,y)\n"
   ]
  },
  {
   "cell_type": "code",
   "execution_count": null,
   "metadata": {
    "collapsed": true
   },
   "outputs": [],
   "source": []
  }
 ],
 "metadata": {
  "kernelspec": {
   "display_name": "Python 2",
   "language": "python",
   "name": "python2"
  },
  "language_info": {
   "codemirror_mode": {
    "name": "ipython",
    "version": 2
   },
   "file_extension": ".py",
   "mimetype": "text/x-python",
   "name": "python",
   "nbconvert_exporter": "python",
   "pygments_lexer": "ipython2",
   "version": "2.7.12"
  }
 },
 "nbformat": 4,
 "nbformat_minor": 1
}
