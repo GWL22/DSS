{
 "cells": [
  {
   "cell_type": "code",
   "execution_count": 1,
   "metadata": {
    "collapsed": true
   },
   "outputs": [],
   "source": [
    "import pandas as pd\n",
    "import dask.dataframe as dd\n",
    "import numpy as np\n",
    "import matplotlib.pyplot as plt\n",
    "import math\n",
    "\n",
    "\n",
    "from sklearn import clone\n",
    "from sklearn.ensemble import RandomForestClassifier, ExtraTreesClassifier\n",
    "from sklearn.tree import DecisionTreeClassifier\n",
    "from sklearn.metrics import classification_report, accuracy_score"
   ]
  },
  {
   "cell_type": "code",
   "execution_count": 13,
   "metadata": {
    "collapsed": true
   },
   "outputs": [],
   "source": [
    "whole_train = dd.read_csv('dataset/train.csv', parse_dates=['srch_ci', 'srch_co'])\n",
    "train = whole_train.get_partition(1).head(10000)"
   ]
  },
  {
   "cell_type": "code",
   "execution_count": 14,
   "metadata": {
    "collapsed": false
   },
   "outputs": [
    {
     "name": "stdout",
     "output_type": "stream",
     "text": [
      "is num1\n",
      "is num2\n",
      "is num1\n"
     ]
    }
   ],
   "source": [
    "train['nights'] = train['srch_co'] - train['srch_ci']\n",
    "train['nights'] = train['nights'] / np.timedelta64(1, 'D')\n",
    "\n",
    "for num in range(len(train['nights'])):\n",
    "    if math.isnan(train['nights'].ix[num]) or train['nights'].ix[num] < 0:\n",
    "        num1 = num - 1\n",
    "        num2 = num + 1\n",
    "        if train.ix[num]['user_id'] == train.ix[num1]['user_id'] and math.isnan(train['nights'].ix[num1]) == False:\n",
    "            train['nights'].ix[num] = train.ix[num1]['nights']\n",
    "            print 'is num1'\n",
    "        elif train.ix[num]['user_id'] == train.ix[num2]['user_id'] and math.isnan(train['nights'].ix[num2]) == False:\n",
    "            train['nights'].ix[num] = train.ix[num2]['nights']\n",
    "            print 'is num2'\n",
    "        else:\n",
    "            break"
   ]
  },
  {
   "cell_type": "code",
   "execution_count": null,
   "metadata": {
    "collapsed": true
   },
   "outputs": [],
   "source": [
    "train['margin'] = train['srch_ci'] - train['date_time']\n",
    "train['margin'] = train['margin'] / np.timedelta64(1, 'D')\n",
    "\n",
    "for num in range(len(train['margin'])):\n",
    "    if math.isnan(train['margin'].ix[num]) or train['margin'].ix[num] < 0:\n",
    "        num1 = num - 1\n",
    "        num2 = num + 1\n",
    "        if train.ix[num]['user_id'] == train.ix[num1]['user_id'] and math.isnan(train['nights'].ix[num1]) == False:\n",
    "            train['margin'].ix[num] = train.ix[num1]['margin']\n",
    "            print 'is num1'\n",
    "        elif train.ix[num]['user_id'] == train.ix[num2]['user_id'] and math.isnan(train['nights'].ix[num2]) == False:\n",
    "            train['margin'].ix[num] = train.ix[num2]['margin']\n",
    "            print 'is num2'\n",
    "        else:\n",
    "            break"
   ]
  },
  {
   "cell_type": "code",
   "execution_count": 15,
   "metadata": {
    "collapsed": true
   },
   "outputs": [],
   "source": [
    "del train['srch_ci']\n",
    "del train['srch_co']\n",
    "del train['date_time']"
   ]
  },
  {
   "cell_type": "code",
   "execution_count": 16,
   "metadata": {
    "collapsed": true
   },
   "outputs": [],
   "source": [
    "del train['site_name']\n",
    "del train['user_id']\n",
    "del train['orig_destination_distance']\n",
    "# del train['user_location_city']\n",
    "# del train['user_location_region']\n",
    "# del train['user_location_country']\n",
    "# del train['posa_continent']\n",
    "\n",
    "# del train['is_package']\n",
    "# del train['is_mobile']\n",
    "# del train['channel']\n",
    "\n",
    "# del train['srch_adults_cnt']\n",
    "# del train['srch_children_cnt']\n",
    "# del train['srch_rm_cnt']\n",
    "\n",
    "# del train['srch_destination_id']\n",
    "# del train['srch_destination_type_id']\n",
    "# del train['is_booking']\n",
    "# del train['cnt']\n",
    "\n",
    "# del train['hotel_continent']\n",
    "# del train['hotel_country']\n",
    "# del train['hotel_market']\n",
    "# del train['nights']"
   ]
  },
  {
   "cell_type": "code",
   "execution_count": 17,
   "metadata": {
    "collapsed": false
   },
   "outputs": [],
   "source": [
    "x = train.drop('hotel_cluster', axis=1)\n",
    "y = train['hotel_cluster']"
   ]
  },
  {
   "cell_type": "code",
   "execution_count": 18,
   "metadata": {
    "collapsed": false
   },
   "outputs": [
    {
     "ename": "ValueError",
     "evalue": "Input contains NaN, infinity or a value too large for dtype('float32').",
     "output_type": "error",
     "traceback": [
      "\u001b[0;31m---------------------------------------------------------------------------\u001b[0m",
      "\u001b[0;31mValueError\u001b[0m                                Traceback (most recent call last)",
      "\u001b[0;32m<ipython-input-18-50ef300460b1>\u001b[0m in \u001b[0;36m<module>\u001b[0;34m()\u001b[0m\n\u001b[0;32m----> 1\u001b[0;31m \u001b[0mmodel\u001b[0m \u001b[1;33m=\u001b[0m \u001b[0mDecisionTreeClassifier\u001b[0m\u001b[1;33m(\u001b[0m\u001b[1;33m)\u001b[0m\u001b[1;33m.\u001b[0m\u001b[0mfit\u001b[0m\u001b[1;33m(\u001b[0m\u001b[0mx\u001b[0m\u001b[1;33m,\u001b[0m\u001b[0my\u001b[0m\u001b[1;33m)\u001b[0m\u001b[1;33m\u001b[0m\u001b[0m\n\u001b[0m\u001b[1;32m      2\u001b[0m \u001b[0mmodel_predict\u001b[0m \u001b[1;33m=\u001b[0m \u001b[0mmodel\u001b[0m\u001b[1;33m.\u001b[0m\u001b[0mpredict\u001b[0m\u001b[1;33m(\u001b[0m\u001b[0mx\u001b[0m\u001b[1;33m)\u001b[0m\u001b[1;33m\u001b[0m\u001b[0m\n",
      "\u001b[0;32mc:\\python27\\lib\\site-packages\\sklearn\\tree\\tree.pyc\u001b[0m in \u001b[0;36mfit\u001b[0;34m(self, X, y, sample_weight, check_input, X_idx_sorted)\u001b[0m\n\u001b[1;32m    156\u001b[0m         \u001b[0mrandom_state\u001b[0m \u001b[1;33m=\u001b[0m \u001b[0mcheck_random_state\u001b[0m\u001b[1;33m(\u001b[0m\u001b[0mself\u001b[0m\u001b[1;33m.\u001b[0m\u001b[0mrandom_state\u001b[0m\u001b[1;33m)\u001b[0m\u001b[1;33m\u001b[0m\u001b[0m\n\u001b[1;32m    157\u001b[0m         \u001b[1;32mif\u001b[0m \u001b[0mcheck_input\u001b[0m\u001b[1;33m:\u001b[0m\u001b[1;33m\u001b[0m\u001b[0m\n\u001b[0;32m--> 158\u001b[0;31m             \u001b[0mX\u001b[0m \u001b[1;33m=\u001b[0m \u001b[0mcheck_array\u001b[0m\u001b[1;33m(\u001b[0m\u001b[0mX\u001b[0m\u001b[1;33m,\u001b[0m \u001b[0mdtype\u001b[0m\u001b[1;33m=\u001b[0m\u001b[0mDTYPE\u001b[0m\u001b[1;33m,\u001b[0m \u001b[0maccept_sparse\u001b[0m\u001b[1;33m=\u001b[0m\u001b[1;34m\"csc\"\u001b[0m\u001b[1;33m)\u001b[0m\u001b[1;33m\u001b[0m\u001b[0m\n\u001b[0m\u001b[1;32m    159\u001b[0m             \u001b[0my\u001b[0m \u001b[1;33m=\u001b[0m \u001b[0mcheck_array\u001b[0m\u001b[1;33m(\u001b[0m\u001b[0my\u001b[0m\u001b[1;33m,\u001b[0m \u001b[0mensure_2d\u001b[0m\u001b[1;33m=\u001b[0m\u001b[0mFalse\u001b[0m\u001b[1;33m,\u001b[0m \u001b[0mdtype\u001b[0m\u001b[1;33m=\u001b[0m\u001b[0mNone\u001b[0m\u001b[1;33m)\u001b[0m\u001b[1;33m\u001b[0m\u001b[0m\n\u001b[1;32m    160\u001b[0m             \u001b[1;32mif\u001b[0m \u001b[0missparse\u001b[0m\u001b[1;33m(\u001b[0m\u001b[0mX\u001b[0m\u001b[1;33m)\u001b[0m\u001b[1;33m:\u001b[0m\u001b[1;33m\u001b[0m\u001b[0m\n",
      "\u001b[0;32mc:\\python27\\lib\\site-packages\\sklearn\\utils\\validation.pyc\u001b[0m in \u001b[0;36mcheck_array\u001b[0;34m(array, accept_sparse, dtype, order, copy, force_all_finite, ensure_2d, allow_nd, ensure_min_samples, ensure_min_features, warn_on_dtype, estimator)\u001b[0m\n\u001b[1;32m    405\u001b[0m                              % (array.ndim, estimator_name))\n\u001b[1;32m    406\u001b[0m         \u001b[1;32mif\u001b[0m \u001b[0mforce_all_finite\u001b[0m\u001b[1;33m:\u001b[0m\u001b[1;33m\u001b[0m\u001b[0m\n\u001b[0;32m--> 407\u001b[0;31m             \u001b[0m_assert_all_finite\u001b[0m\u001b[1;33m(\u001b[0m\u001b[0marray\u001b[0m\u001b[1;33m)\u001b[0m\u001b[1;33m\u001b[0m\u001b[0m\n\u001b[0m\u001b[1;32m    408\u001b[0m \u001b[1;33m\u001b[0m\u001b[0m\n\u001b[1;32m    409\u001b[0m     \u001b[0mshape_repr\u001b[0m \u001b[1;33m=\u001b[0m \u001b[0m_shape_repr\u001b[0m\u001b[1;33m(\u001b[0m\u001b[0marray\u001b[0m\u001b[1;33m.\u001b[0m\u001b[0mshape\u001b[0m\u001b[1;33m)\u001b[0m\u001b[1;33m\u001b[0m\u001b[0m\n",
      "\u001b[0;32mc:\\python27\\lib\\site-packages\\sklearn\\utils\\validation.pyc\u001b[0m in \u001b[0;36m_assert_all_finite\u001b[0;34m(X)\u001b[0m\n\u001b[1;32m     56\u001b[0m             and not np.isfinite(X).all()):\n\u001b[1;32m     57\u001b[0m         raise ValueError(\"Input contains NaN, infinity\"\n\u001b[0;32m---> 58\u001b[0;31m                          \" or a value too large for %r.\" % X.dtype)\n\u001b[0m\u001b[1;32m     59\u001b[0m \u001b[1;33m\u001b[0m\u001b[0m\n\u001b[1;32m     60\u001b[0m \u001b[1;33m\u001b[0m\u001b[0m\n",
      "\u001b[0;31mValueError\u001b[0m: Input contains NaN, infinity or a value too large for dtype('float32')."
     ]
    }
   ],
   "source": [
    "model = DecisionTreeClassifier().fit(x,y)\n",
    "model_predict = model.predict(x)"
   ]
  },
  {
   "cell_type": "code",
   "execution_count": 19,
   "metadata": {
    "collapsed": false
   },
   "outputs": [
    {
     "name": "stdout",
     "output_type": "stream",
     "text": [
      "             precision    recall  f1-score   support\n",
      "\n",
      "          0       0.05      0.07      0.06       122\n",
      "          1       0.00      0.00      0.00        96\n",
      "          2       0.00      0.00      0.00       151\n",
      "          3       0.01      0.01      0.01        67\n",
      "          4       0.01      0.01      0.01       115\n",
      "          5       0.02      0.03      0.02       155\n",
      "          6       0.01      0.01      0.01       119\n",
      "          7       0.01      0.04      0.02        52\n",
      "          8       0.00      0.02      0.01        46\n",
      "          9       0.00      0.00      0.00       137\n",
      "         10       0.00      0.00      0.00        85\n",
      "         11       0.00      0.00      0.00        86\n",
      "         12       0.00      0.00      0.00        56\n",
      "         13       0.00      0.00      0.00       100\n",
      "         14       0.00      0.00      0.00        47\n",
      "         15       0.01      0.01      0.01        91\n",
      "         16       0.01      0.01      0.01       138\n",
      "         17       0.02      0.02      0.02       132\n",
      "         18       0.02      0.01      0.02       209\n",
      "         19       0.00      0.00      0.00        85\n",
      "         20       0.00      0.00      0.00        78\n",
      "         21       0.02      0.02      0.02       129\n",
      "         22       0.01      0.01      0.01        88\n",
      "         23       0.01      0.01      0.01        81\n",
      "         24       0.00      0.00      0.00        56\n",
      "         25       0.01      0.02      0.02       141\n",
      "         26       0.02      0.02      0.02       124\n",
      "         27       0.00      0.00      0.00        35\n",
      "         28       0.01      0.02      0.02       123\n",
      "         29       0.00      0.00      0.00        85\n",
      "         30       0.04      0.04      0.04       137\n",
      "         31       0.02      0.05      0.03        43\n",
      "         32       0.00      0.00      0.00        88\n",
      "         33       0.00      0.00      0.00        95\n",
      "         34       0.00      0.00      0.00       105\n",
      "         35       0.01      0.03      0.02        31\n",
      "         36       0.02      0.04      0.03       101\n",
      "         37       0.03      0.02      0.03       128\n",
      "         38       0.00      0.00      0.00        48\n",
      "         39       0.02      0.02      0.02        99\n",
      "         40       0.02      0.04      0.03        83\n",
      "         41       0.01      0.01      0.01       210\n",
      "         42       0.01      0.01      0.01       161\n",
      "         43       0.06      0.04      0.05        72\n",
      "         44       0.02      0.01      0.01        93\n",
      "         45       0.00      0.00      0.00        60\n",
      "         46       0.02      0.01      0.02       136\n",
      "         47       0.01      0.01      0.01       132\n",
      "         48       0.03      0.03      0.03       181\n",
      "         49       0.00      0.00      0.00        70\n",
      "         50       0.02      0.02      0.02       108\n",
      "         51       0.01      0.01      0.01        74\n",
      "         52       0.01      0.01      0.01        67\n",
      "         53       0.02      0.03      0.03        32\n",
      "         54       0.01      0.03      0.02        38\n",
      "         55       0.03      0.02      0.02       110\n",
      "         56       0.00      0.00      0.00       107\n",
      "         57       0.01      0.01      0.01        79\n",
      "         58       0.00      0.00      0.00       126\n",
      "         59       0.00      0.00      0.00       171\n",
      "         60       0.00      0.00      0.00        33\n",
      "         61       0.00      0.00      0.00        79\n",
      "         62       0.03      0.01      0.02       158\n",
      "         63       0.01      0.01      0.01        77\n",
      "         64       0.05      0.04      0.04       162\n",
      "         65       0.01      0.02      0.01       132\n",
      "         66       0.00      0.00      0.00        50\n",
      "         67       0.02      0.01      0.01        91\n",
      "         68       0.02      0.02      0.02       108\n",
      "         69       0.00      0.00      0.00       131\n",
      "         70       0.01      0.01      0.01       160\n",
      "         71       0.00      0.00      0.00        78\n",
      "         72       0.03      0.02      0.02       121\n",
      "         73       0.01      0.01      0.01       108\n",
      "         74       0.00      0.00      0.00        13\n",
      "         75       0.00      0.00      0.00        41\n",
      "         76       0.00      0.00      0.00        75\n",
      "         77       0.00      0.00      0.00        79\n",
      "         78       0.00      0.00      0.00        93\n",
      "         79       0.06      0.02      0.04        82\n",
      "         80       0.00      0.00      0.00        53\n",
      "         81       0.00      0.00      0.00        57\n",
      "         82       0.03      0.02      0.02       110\n",
      "         83       0.02      0.02      0.02       124\n",
      "         84       0.02      0.01      0.01        99\n",
      "         85       0.00      0.00      0.00        88\n",
      "         86       0.02      0.02      0.02        66\n",
      "         87       0.00      0.00      0.00        81\n",
      "         88       0.00      0.00      0.00        48\n",
      "         89       0.00      0.00      0.00        54\n",
      "         90       0.05      0.02      0.02       132\n",
      "         91       0.02      0.02      0.02       225\n",
      "         92       0.02      0.01      0.01       122\n",
      "         93       0.00      0.00      0.00        65\n",
      "         94       0.00      0.00      0.00        92\n",
      "         95       0.02      0.02      0.02       124\n",
      "         96       0.01      0.01      0.01       120\n",
      "         97       0.02      0.01      0.01       159\n",
      "         98       0.01      0.01      0.01       178\n",
      "         99       0.00      0.00      0.00       118\n",
      "\n",
      "avg / total       0.01      0.01      0.01     10000\n",
      "\n"
     ]
    }
   ],
   "source": [
    "print classification_report(y, model_predict)"
   ]
  },
  {
   "cell_type": "code",
   "execution_count": 20,
   "metadata": {
    "collapsed": false
   },
   "outputs": [
    {
     "name": "stdout",
     "output_type": "stream",
     "text": [
      "0.0125\n"
     ]
    }
   ],
   "source": [
    "print accuracy_score(y, model_predict)"
   ]
  },
  {
   "cell_type": "markdown",
   "metadata": {},
   "source": [
    "## Best : site_name, user_id, orig_distance"
   ]
  },
  {
   "cell_type": "code",
   "execution_count": null,
   "metadata": {
    "collapsed": true
   },
   "outputs": [],
   "source": []
  },
  {
   "cell_type": "markdown",
   "metadata": {},
   "source": [
    "## 이제 최적의 Column을 찾아보자"
   ]
  },
  {
   "cell_type": "code",
   "execution_count": null,
   "metadata": {
    "collapsed": false
   },
   "outputs": [],
   "source": [
    "len(train.columns)"
   ]
  },
  {
   "cell_type": "code",
   "execution_count": 10,
   "metadata": {
    "collapsed": false,
    "scrolled": false
   },
   "outputs": [
    {
     "name": "stdout",
     "output_type": "stream",
     "text": [
      "feature ranking\n",
      "1. feature 13 (0.152805396478)\n",
      "2. feature 16 (0.113346009833)\n",
      "3. feature 10 (0.111323503118)\n",
      "4. feature 3 (0.0948434564841)\n",
      "5. feature 17 (0.0922008841613)\n",
      "6. feature 2 (0.0741090376706)\n",
      "7. feature 6 (0.0609233282172)\n",
      "8. feature 7 (0.0488216683053)\n",
      "9. feature 15 (0.0428459500575)\n",
      "10. feature 11 (0.0396000210443)\n",
      "11. feature 8 (0.0310301999211)\n",
      "12. feature 1 (0.0290519525681)\n",
      "13. feature 12 (0.0273415252921)\n",
      "14. feature 14 (0.0260660743214)\n",
      "15. feature 9 (0.0151709867659)\n",
      "16. feature 4 (0.014306971582)\n",
      "17. feature 5 (0.0133306086086)\n",
      "18. feature 0 (0.0128824255717)\n"
     ]
    },
    {
     "data": {
      "image/png": "[encoded data removed]",
      "text/plain": [
       "<matplotlib.figure.Figure at 0xb889370>"
      ]
     },
     "metadata": {},
     "output_type": "display_data"
    }
   ],
   "source": [
    "forest = ExtraTreesClassifier(n_estimators=22, random_state=0)\n",
    "forest.fit(x,y)\n",
    "\n",
    "importances = forest.feature_importances_\n",
    "\n",
    "std = np.std([tree.feature_importances_ for tree in forest.estimators_], axis = 0)\n",
    "indices = np.argsort(importances)[::-1]\n",
    "\n",
    "print 'feature ranking'\n",
    "for f in range(x.shape[1]):\n",
    "    print '{}. feature {} ({})'.format(f+1, indices[f], importances[indices[f]])\n",
    "\n",
    "plt.title('Feature importances')\n",
    "plt.bar(range(x.shape[1]), importances[indices], color='r', yerr=std[indices], align='center')\n",
    "plt.xticks(range(x.shape[1]), indices)\n",
    "plt.xlim([-1, x.shape[1]])\n",
    "plt.show()"
   ]
  },
  {
   "cell_type": "code",
   "execution_count": null,
   "metadata": {
    "collapsed": false
   },
   "outputs": [],
   "source": [
    "train.columns[3], train.columns[7]"
   ]
  },
  {
   "cell_type": "code",
   "execution_count": null,
   "metadata": {
    "collapsed": false
   },
   "outputs": [],
   "source": [
    "import seaborn as sns\n",
    "\n",
    "sns.countplot(train['srch_rm_cnt'])\n",
    "plt.show()"
   ]
  }
 ],
 "metadata": {
  "kernelspec": {
   "display_name": "Python 2",
   "language": "python",
   "name": "python2"
  },
  "language_info": {
   "codemirror_mode": {
    "name": "ipython",
    "version": 2
   },
   "file_extension": ".py",
   "mimetype": "text/x-python",
   "name": "python",
   "nbconvert_exporter": "python",
   "pygments_lexer": "ipython2",
   "version": "2.7.12"
  }
 },
 "nbformat": 4,
 "nbformat_minor": 1
}
